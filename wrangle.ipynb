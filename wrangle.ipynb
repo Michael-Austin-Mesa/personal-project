{
 "cells": [
  {
   "cell_type": "code",
   "execution_count": 25,
   "id": "eff1e241",
   "metadata": {},
   "outputs": [],
   "source": [
    "import requests\n",
    "import pandas as pd\n",
    "from sklearn.model_selection import TimeSeriesSplit "
   ]
  },
  {
   "cell_type": "code",
   "execution_count": 26,
   "id": "780edd58",
   "metadata": {},
   "outputs": [],
   "source": [
    "def get_crypto_price(symbol, start, end):\n",
    "    \n",
    "    api_url = f'https://data.messari.io/api/v1/markets/binance-{symbol}-usdt/metrics/price/time-series?start={start}&end={end}&interval=1d'\n",
    "    raw = requests.get(api_url).json()\n",
    "    df = pd.DataFrame(raw['data']['values'])\n",
    "    df = df.rename(columns = {0:'date',1:f'{symbol}_open',2:f'{symbol}_high',3:f'{symbol}_low',4:f'{symbol}_close',5:f'{symbol}_volume'})\n",
    "    df['date'] = pd.to_datetime(df['date'], unit = 'ms')\n",
    "    df = df.set_index('date')\n",
    "    \n",
    "    return df"
   ]
  },
  {
   "cell_type": "code",
   "execution_count": 27,
   "id": "853d0f1d",
   "metadata": {},
   "outputs": [],
   "source": [
    "def clean_btc_data_2022(btc):\n",
    "    \n",
    "    df = btc['2022']\n",
    "    df = df.reset_index()\n",
    "    df = df.append(pd.DataFrame({'date': pd.date_range(start=df.date.iloc[-1], periods=20, freq='D', closed='right')}))\n",
    "    df = df.set_index('date')\n",
    "    btc = pd.concat([btc[:'2021'], df], ignore_index=False)\n",
    "    \n",
    "    return btc"
   ]
  },
  {
   "cell_type": "code",
   "execution_count": 28,
   "id": "fadbeed3",
   "metadata": {},
   "outputs": [],
   "source": [
    "def clean_btc_data_2021(btc):\n",
    "    \n",
    "    df = btc['2021'].resample('D').mean()\n",
    "    df = df.groupby(df.index.day).bfill()\n",
    "    df2 = pd.concat([btc[:'2020'], df], ignore_index=False)\n",
    "    btc = pd.concat([df2, btc['2022']], ignore_index=False)\n",
    "    \n",
    "    return btc"
   ]
  },
  {
   "cell_type": "code",
   "execution_count": 29,
   "id": "a8ea5b94",
   "metadata": {},
   "outputs": [],
   "source": [
    "def remove_leap_day(btc):\n",
    "    \n",
    "    btc = btc[btc.index != '2020-02-29']\n",
    "    \n",
    "    return btc"
   ]
  },
  {
   "cell_type": "code",
   "execution_count": 30,
   "id": "a376fb69",
   "metadata": {},
   "outputs": [],
   "source": [
    "def clean_data(btc):\n",
    "    \n",
    "    btc = remove_leap_day(btc)\n",
    "    btc = clean_btc_data_2021(btc)\n",
    "    btc = clean_btc_data_2022(btc)\n",
    "    \n",
    "    return btc"
   ]
  }
 ],
 "metadata": {
  "kernelspec": {
   "display_name": "Python 3 (ipykernel)",
   "language": "python",
   "name": "python3"
  },
  "language_info": {
   "codemirror_mode": {
    "name": "ipython",
    "version": 3
   },
   "file_extension": ".py",
   "mimetype": "text/x-python",
   "name": "python",
   "nbconvert_exporter": "python",
   "pygments_lexer": "ipython3",
   "version": "3.9.12"
  }
 },
 "nbformat": 4,
 "nbformat_minor": 5
}
