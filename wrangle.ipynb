{
 "cells": [
  {
   "cell_type": "code",
   "execution_count": 7,
   "id": "8829d4c2",
   "metadata": {},
   "outputs": [],
   "source": [
    "import requests\n",
    "import pandas as pd\n",
    "from sklearn.model_selection import TimeSeriesSplit "
   ]
  },
  {
   "cell_type": "code",
   "execution_count": 2,
   "id": "889db9d5",
   "metadata": {},
   "outputs": [],
   "source": [
    "def get_crypto_price(symbol, start, end):\n",
    "    api_url = f'https://data.messari.io/api/v1/markets/binance-{symbol}-usdt/metrics/price/time-series?start={start}&end={end}&interval=1d'\n",
    "    raw = requests.get(api_url).json()\n",
    "    df = pd.DataFrame(raw['data']['values'])\n",
    "    df = df.rename(columns = {0:'date',1:f'{symbol}_open',2:f'{symbol}_high',3:f'{symbol}_low',4:f'{symbol}_close',5:f'{symbol}_volume'})\n",
    "    df['date'] = pd.to_datetime(df['date'], unit = 'ms')\n",
    "    df = df.set_index('date')\n",
    "    return df"
   ]
  },
  {
   "cell_type": "code",
   "execution_count": null,
   "id": "5505bec2",
   "metadata": {},
   "outputs": [],
   "source": []
  }
 ],
 "metadata": {
  "kernelspec": {
   "display_name": "Python 3 (ipykernel)",
   "language": "python",
   "name": "python3"
  },
  "language_info": {
   "codemirror_mode": {
    "name": "ipython",
    "version": 3
   },
   "file_extension": ".py",
   "mimetype": "text/x-python",
   "name": "python",
   "nbconvert_exporter": "python",
   "pygments_lexer": "ipython3",
   "version": "3.9.12"
  }
 },
 "nbformat": 4,
 "nbformat_minor": 5
}
