{
 "cells": [
  {
   "cell_type": "code",
   "execution_count": 1,
   "id": "79f13cd5",
   "metadata": {},
   "outputs": [],
   "source": [
    "import warnings\n",
    "warnings.filterwarnings(\"ignore\")\n",
    "\n",
    "\n",
    "import requests\n",
    "\n",
    "import pandas as pd\n",
    "import numpy as np\n",
    "from scipy import stats\n",
    "from math import sqrt\n",
    "import matplotlib.pyplot as plt\n",
    "import seaborn as sns\n",
    "\n",
    "import statsmodels.api as sm\n",
    "from statsmodels.tsa.api import Holt\n",
    "\n",
    "from datetime import datetime\n",
    "\n",
    "from sklearn.metrics import mean_squared_error\n",
    "from sklearn.model_selection import TimeSeriesSplit \n",
    "\n",
    "\n",
    "import wrangle as w"
   ]
  },
  {
   "cell_type": "code",
   "execution_count": 2,
   "id": "c2c6b23b",
   "metadata": {},
   "outputs": [],
   "source": [
    "btc = w.get_crypto_price('btc', '2018-01-01', '2022-12-12')"
   ]
  },
  {
   "cell_type": "code",
   "execution_count": 3,
   "id": "4c43d26b",
   "metadata": {},
   "outputs": [],
   "source": [
    "btc = w.clean_data(btc)"
   ]
  },
  {
   "cell_type": "code",
   "execution_count": 4,
   "id": "cffb771f",
   "metadata": {},
   "outputs": [],
   "source": [
    "train = btc[:'2020']\n",
    "validate = btc['2021']\n",
    "test = btc['2022']"
   ]
  },
  {
   "cell_type": "code",
   "execution_count": 5,
   "id": "ca4e0f9f",
   "metadata": {},
   "outputs": [],
   "source": [
    "y = train.btc_volume"
   ]
  },
  {
   "cell_type": "code",
   "execution_count": 6,
   "id": "668bfa4b",
   "metadata": {},
   "outputs": [],
   "source": [
    "def get_avg_vol_monthly():\n",
    "    sns.set(rc={'figure.figsize': (10, 6)})\n",
    "    sns.set_theme(style=\"whitegrid\")\n",
    "    ax = y.groupby([y.index.year, y.index.month]).mean().unstack(0).plot()\n",
    "    ax.set(title=\"Average Volume by Month\", xlabel='Month', ylabel='Volume')\n",
    "    ax.legend(title='Year')\n",
    "    plt.show()"
   ]
  },
  {
   "cell_type": "code",
   "execution_count": 7,
   "id": "ef982d7d",
   "metadata": {},
   "outputs": [],
   "source": [
    "def get_vol_by_date():\n",
    "    sns.set(rc={'figure.figsize': (10, 6)})\n",
    "    sns.set_theme(style=\"whitegrid\")\n",
    "    y.groupby([y.index.year]).plot(title= 'Volume by Date', xlabel='Date (Day)', ylabel = 'Volume', legend=True)\n",
    "    plt.show()"
   ]
  },
  {
   "cell_type": "code",
   "execution_count": 8,
   "id": "4e1d41a7",
   "metadata": {},
   "outputs": [],
   "source": [
    "def plot_price_vol():\n",
    "    sns.set(rc={'figure.figsize': (10, 6)})\n",
    "    sns.set_theme(style=\"whitegrid\")\n",
    "    plot_df = train[['btc_open', 'btc_close','btc_high','btc_low']]\n",
    "    for col in plot_df.columns:\n",
    "        sns.scatterplot(x=plot_df[col], y=y)\n",
    "        plt.show()"
   ]
  }
 ],
 "metadata": {
  "kernelspec": {
   "display_name": "Python 3 (ipykernel)",
   "language": "python",
   "name": "python3"
  },
  "language_info": {
   "codemirror_mode": {
    "name": "ipython",
    "version": 3
   },
   "file_extension": ".py",
   "mimetype": "text/x-python",
   "name": "python",
   "nbconvert_exporter": "python",
   "pygments_lexer": "ipython3",
   "version": "3.9.12"
  }
 },
 "nbformat": 4,
 "nbformat_minor": 5
}
