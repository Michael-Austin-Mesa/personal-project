{
 "cells": [
  {
   "cell_type": "code",
   "execution_count": null,
   "id": "eb76df75",
   "metadata": {},
   "outputs": [],
   "source": [
    "import requests\n",
    "import pandas as pd\n",
    "from sklearn.model_selection import TimeSeriesSplit \n",
    "import seaborn as sns\n",
    "import wrangle"
   ]
  },
  {
   "cell_type": "code",
   "execution_count": null,
   "id": "67354cf2",
   "metadata": {},
   "outputs": [],
   "source": [
    "btc = get_crypto_price('btc', '2018-01-01', '2022-12-12')"
   ]
  },
  {
   "cell_type": "code",
   "execution_count": null,
   "id": "2c239fb6",
   "metadata": {},
   "outputs": [],
   "source": [
    "btc['btc_volume'].plot()"
   ]
  },
  {
   "cell_type": "code",
   "execution_count": null,
   "id": "ec1b19c5",
   "metadata": {},
   "outputs": [],
   "source": [
    "btc['btc_volume'].groupby([btc['btc_volume'].index.year]).plot()"
   ]
  }
 ],
 "metadata": {
  "kernelspec": {
   "display_name": "Python 3 (ipykernel)",
   "language": "python",
   "name": "python3"
  },
  "language_info": {
   "codemirror_mode": {
    "name": "ipython",
    "version": 3
   },
   "file_extension": ".py",
   "mimetype": "text/x-python",
   "name": "python",
   "nbconvert_exporter": "python",
   "pygments_lexer": "ipython3",
   "version": "3.9.12"
  }
 },
 "nbformat": 4,
 "nbformat_minor": 5
}
