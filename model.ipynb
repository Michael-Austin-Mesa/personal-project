{
 "cells": [
  {
   "cell_type": "code",
   "execution_count": 1,
   "id": "fbf05275",
   "metadata": {},
   "outputs": [],
   "source": [
    "import warnings\n",
    "warnings.filterwarnings(\"ignore\")\n",
    "\n",
    "\n",
    "import requests\n",
    "\n",
    "import pandas as pd\n",
    "import numpy as np\n",
    "from scipy import stats\n",
    "from math import sqrt\n",
    "import matplotlib.pyplot as plt\n",
    "import seaborn as sns\n",
    "\n",
    "import statsmodels.api as sm\n",
    "from statsmodels.tsa.api import Holt\n",
    "\n",
    "from datetime import datetime\n",
    "\n",
    "from sklearn.metrics import mean_squared_error\n",
    "from sklearn.model_selection import TimeSeriesSplit \n",
    "\n",
    "\n",
    "import wrangle as w"
   ]
  },
  {
   "cell_type": "code",
   "execution_count": 11,
   "id": "c68889cf",
   "metadata": {},
   "outputs": [],
   "source": [
    "btc = w.get_crypto_price('btc', '2018-01-01', '2022-12-12')\n",
    "\n",
    "btc = w.clean_data(btc)"
   ]
  },
  {
   "cell_type": "code",
   "execution_count": 12,
   "id": "3e314368",
   "metadata": {},
   "outputs": [],
   "source": [
    "# human splitting by year\n",
    "train = btc[:'2020']\n",
    "validate = btc['2021']\n",
    "test = btc['2022']\n",
    "\n",
    "col = 'btc_volume'"
   ]
  },
  {
   "cell_type": "code",
   "execution_count": 13,
   "id": "3cd8ef3b",
   "metadata": {},
   "outputs": [],
   "source": [
    "# Create the empty dataframe\n",
    "eval_df = pd.DataFrame(columns=['model_type', 'target_var', 'rmse'])\n",
    "\n",
    "# Initialize volume, yhat_df, and period for modeling\n",
    "volume = 0 #train['btc_volume'][-1:][0]\n",
    "\n",
    "yhat_df = pd.DataFrame({'btc_volume': [volume]}, \n",
    "                       index = validate.index)\n",
    "\n",
    "period = 0"
   ]
  },
  {
   "cell_type": "code",
   "execution_count": 2,
   "id": "8a1056f4",
   "metadata": {},
   "outputs": [],
   "source": [
    "# evaluation function to compute rmse\n",
    "def evaluate(target_var, validate, yhat_df):\n",
    "    rmse = round(sqrt(mean_squared_error(validate[target_var], yhat_df[target_var])), 0)\n",
    "    return rmse"
   ]
  },
  {
   "cell_type": "code",
   "execution_count": 3,
   "id": "0bdd45e0",
   "metadata": {},
   "outputs": [],
   "source": [
    "# plot and evaluate\n",
    "def plot_and_eval(target_var, train, validate, yhat_df):\n",
    "    plt.figure(figsize = (12,4))\n",
    "    plt.plot(train[target_var], label = 'Train', linewidth = 1)\n",
    "    plt.plot(validate[target_var], label = 'Validate', linewidth = 1)\n",
    "    plt.plot(yhat_df[target_var])\n",
    "    plt.title(target_var)\n",
    "    rmse = evaluate(target_var, validate, yhat_df)\n",
    "    print(target_var, '-- RMSE: {:.0f}'.format(rmse))\n",
    "    plt.show()"
   ]
  },
  {
   "cell_type": "code",
   "execution_count": 4,
   "id": "effb4af1",
   "metadata": {},
   "outputs": [],
   "source": [
    "# function to store rmse for comparison purposes\n",
    "def append_eval_df(model_type, target_var, validate, yhat_df):\n",
    "    rmse = evaluate(target_var, validate, yhat_df)\n",
    "    d = {'model_type': [model_type], 'target_var': [target_var], 'rmse': [rmse]}\n",
    "    d = pd.DataFrame(d)\n",
    "    return eval_df.append(d, ignore_index = True)"
   ]
  },
  {
   "cell_type": "code",
   "execution_count": 5,
   "id": "585c9fd2",
   "metadata": {},
   "outputs": [],
   "source": [
    "def test_evaluate(target_var, test, yhat_df):\n",
    "    rmse = round(sqrt(mean_squared_error(test[target_var], yhat_df[target_var])), 0)\n",
    "    return rmse"
   ]
  },
  {
   "cell_type": "code",
   "execution_count": 22,
   "id": "efab6c57",
   "metadata": {},
   "outputs": [],
   "source": [
    "def plot_and_eval_test(target_var, train, validate, test, yhat_df):\n",
    "    plt.figure(figsize = (12,4))\n",
    "    plt.plot(train[target_var], label = 'Train', linewidth = 1)\n",
    "    plt.plot(validate[target_var], label = 'Validate', linewidth = 1)\n",
    "    plt.plot(test[target_var], label = 'Test', linewidth = 1)\n",
    "    plt.plot(yhat_df[target_var], alpha = .5, color=\"red\")\n",
    "    rmse = test_evaluate(target_var, test, yhat_df)\n",
    "    print(target_var, '-- RMSE: {:.0f}'.format(rmse))\n",
    "    plt.title(target_var)\n",
    "    plt.legend()\n",
    "    plt.show()"
   ]
  },
  {
   "cell_type": "code",
   "execution_count": 7,
   "id": "189e18ad",
   "metadata": {},
   "outputs": [],
   "source": [
    "def get_btc_last_observed(train, validate, volume, yhat_df):\n",
    "    \n",
    "    volume = train['btc_volume'][-1:][0]\n",
    "\n",
    "    yhat_df = pd.DataFrame({'btc_volume': [volume]}, \n",
    "                           index = validate.index)\n",
    "    \n",
    "\n",
    "    return volume, yhat_df"
   ]
  },
  {
   "cell_type": "code",
   "execution_count": 8,
   "id": "69746ae0",
   "metadata": {},
   "outputs": [],
   "source": [
    "def get_btc_simple_average(train, validate, volume, yhat_df):\n",
    "    \n",
    "    # getting the average of btc_volume in train\n",
    "    volume = round(train['btc_volume'].mean(), 2)\n",
    "\n",
    "\n",
    "    yhat_df = pd.DataFrame({'btc_volume': [volume]}, \n",
    "                           index = validate.index)\n",
    "\n",
    "    \n",
    "    return volume, yhat_df"
   ]
  },
  {
   "cell_type": "code",
   "execution_count": 16,
   "id": "b008b2bc",
   "metadata": {},
   "outputs": [],
   "source": [
    "def get_btc_30d_average(train, validate, volume, yhat_df):\n",
    "    \n",
    "    period = 30\n",
    "    volume = round(train['btc_volume'].rolling(period).mean().iloc[-1], 2)\n",
    "\n",
    "    yhat_df = pd.DataFrame({'btc_volume': [volume]}, \n",
    "                           index = validate.index)\n",
    "\n",
    "    \n",
    "    return volume, yhat_df"
   ]
  },
  {
   "cell_type": "code",
   "execution_count": 17,
   "id": "557cbb2e",
   "metadata": {},
   "outputs": [],
   "source": [
    "def get_btc_7d_average(train, validate, volume, yhat_df):\n",
    "    \n",
    "    period = 7\n",
    "    volume = round(train['btc_volume'].rolling(period).mean().iloc[-1], 2)\n",
    "\n",
    "    yhat_df = pd.DataFrame({'btc_volume': [volume]}, \n",
    "                           index = validate.index)\n",
    "\n",
    "    \n",
    "    return volume, yhat_df"
   ]
  },
  {
   "cell_type": "code",
   "execution_count": 18,
   "id": "6cb0e9a8",
   "metadata": {},
   "outputs": [],
   "source": [
    "def get_btc_14d_average(train, validate, volume, yhat_df):\n",
    "    \n",
    "    period = 14\n",
    "    volume = round(train['btc_volume'].rolling(period).mean().iloc[-1], 2)\n",
    "\n",
    "    yhat_df = pd.DataFrame({'btc_volume': [volume]}, \n",
    "                           index = validate.index)\n",
    "\n",
    "    \n",
    "    return volume, yhat_df"
   ]
  },
  {
   "cell_type": "code",
   "execution_count": 19,
   "id": "125dc500",
   "metadata": {},
   "outputs": [],
   "source": [
    "def get_btc_21d_average(train, validate, volume, yhat_df):\n",
    "    \n",
    "    period = 21\n",
    "    volume = round(train['btc_volume'].rolling(period).mean().iloc[-1], 2)\n",
    "\n",
    "    yhat_df = pd.DataFrame({'btc_volume': [volume]}, \n",
    "                           index = validate.index)\n",
    "\n",
    "    \n",
    "    return volume, yhat_df"
   ]
  },
  {
   "cell_type": "code",
   "execution_count": 20,
   "id": "0a0edb4a",
   "metadata": {},
   "outputs": [],
   "source": [
    "def get_btc_28d_average(train, validate, volume, yhat_df):\n",
    "    \n",
    "    period = 28\n",
    "    volume = round(train['btc_volume'].rolling(period).mean().iloc[-1], 2)\n",
    "\n",
    "    yhat_df = pd.DataFrame({'btc_volume': [volume]}, \n",
    "                           index = validate.index)\n",
    "\n",
    "    \n",
    "    return volume, yhat_df"
   ]
  },
  {
   "cell_type": "code",
   "execution_count": 21,
   "id": "5539c4a7",
   "metadata": {},
   "outputs": [],
   "source": [
    "def get_btc_120d_average(train, validate, volume, yhat_df):\n",
    "    \n",
    "    period = 120\n",
    "    volume = round(train['btc_volume'].rolling(period).mean().iloc[-1], 2)\n",
    "\n",
    "    yhat_df = pd.DataFrame({'btc_volume': [volume]}, \n",
    "                           index = validate.index)\n",
    "\n",
    "    \n",
    "    return volume, yhat_df"
   ]
  },
  {
   "cell_type": "code",
   "execution_count": 10,
   "id": "b3c2d361",
   "metadata": {},
   "outputs": [],
   "source": [
    "def get_btc_previous_cycle(train, validate):\n",
    "    \n",
    "    yhat_df = train['2020'] + train.diff(365).mean()\n",
    "    yhat_df.index = validate.index\n",
    "    \n",
    "    return yhat_df"
   ]
  },
  {
   "cell_type": "code",
   "execution_count": 15,
   "id": "4b6a2e40",
   "metadata": {},
   "outputs": [],
   "source": [
    "def get_test_btc_21d_average(train, test, volume, yhat_df):\n",
    "    \n",
    "    period = 21\n",
    "    volume = round(train['btc_volume'].rolling(period).mean().iloc[-1], 2)\n",
    "\n",
    "    yhat_df = pd.DataFrame({'btc_volume': [volume]}, \n",
    "                           index = test.index)\n",
    "\n",
    "    \n",
    "    return volume, yhat_df"
   ]
  }
 ],
 "metadata": {
  "kernelspec": {
   "display_name": "Python 3 (ipykernel)",
   "language": "python",
   "name": "python3"
  },
  "language_info": {
   "codemirror_mode": {
    "name": "ipython",
    "version": 3
   },
   "file_extension": ".py",
   "mimetype": "text/x-python",
   "name": "python",
   "nbconvert_exporter": "python",
   "pygments_lexer": "ipython3",
   "version": "3.9.12"
  }
 },
 "nbformat": 4,
 "nbformat_minor": 5
}
