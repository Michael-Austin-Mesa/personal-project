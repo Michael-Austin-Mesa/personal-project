{
 "cells": [
  {
   "cell_type": "code",
   "execution_count": 1,
   "id": "427e600f",
   "metadata": {},
   "outputs": [],
   "source": [
    "import warnings\n",
    "warnings.filterwarnings(\"ignore\")\n",
    "\n",
    "\n",
    "import requests\n",
    "\n",
    "import pandas as pd\n",
    "import numpy as np\n",
    "from scipy import stats\n",
    "from math import sqrt\n",
    "import matplotlib.pyplot as plt\n",
    "import seaborn as sns\n",
    "\n",
    "import statsmodels.api as sm\n",
    "from statsmodels.tsa.api import Holt\n",
    "\n",
    "from datetime import datetime\n",
    "\n",
    "from sklearn.metrics import mean_squared_error\n",
    "from sklearn.model_selection import TimeSeriesSplit \n",
    "\n",
    "#from wrangle import get_crypto_price\n",
    "\n",
    "import wrangle as w\n",
    "import modeling as m"
   ]
  },
  {
   "cell_type": "code",
   "execution_count": null,
   "id": "5defe341",
   "metadata": {},
   "outputs": [],
   "source": [
    "btc = w.get_crypto_price('btc', '2018-01-01', '2022-12-12')\n",
    "\n",
    "btc = w.clean_data(btc)"
   ]
  },
  {
   "cell_type": "code",
   "execution_count": null,
   "id": "2ea911ab",
   "metadata": {},
   "outputs": [],
   "source": [
    "# human splitting by year\n",
    "train = btc[:'2020']\n",
    "validate = btc['2021']\n",
    "test = btc['2022']\n",
    "\n",
    "col = 'btc_volume'"
   ]
  },
  {
   "cell_type": "code",
   "execution_count": null,
   "id": "afb75f9d",
   "metadata": {},
   "outputs": [],
   "source": []
  },
  {
   "cell_type": "code",
   "execution_count": null,
   "id": "adf25007",
   "metadata": {},
   "outputs": [],
   "source": []
  },
  {
   "cell_type": "code",
   "execution_count": null,
   "id": "9d85bfbb",
   "metadata": {},
   "outputs": [],
   "source": []
  },
  {
   "cell_type": "code",
   "execution_count": null,
   "id": "5eab7407",
   "metadata": {},
   "outputs": [],
   "source": []
  },
  {
   "cell_type": "code",
   "execution_count": null,
   "id": "6217bd8c",
   "metadata": {},
   "outputs": [],
   "source": []
  },
  {
   "cell_type": "code",
   "execution_count": null,
   "id": "021efc0a",
   "metadata": {},
   "outputs": [],
   "source": []
  },
  {
   "cell_type": "code",
   "execution_count": null,
   "id": "2bf159f8",
   "metadata": {},
   "outputs": [],
   "source": []
  },
  {
   "cell_type": "code",
   "execution_count": null,
   "id": "c71a5538",
   "metadata": {},
   "outputs": [],
   "source": []
  },
  {
   "cell_type": "code",
   "execution_count": null,
   "id": "8d6880a6",
   "metadata": {},
   "outputs": [],
   "source": []
  },
  {
   "cell_type": "code",
   "execution_count": null,
   "id": "b8b41d5c",
   "metadata": {},
   "outputs": [],
   "source": []
  },
  {
   "cell_type": "code",
   "execution_count": null,
   "id": "69193930",
   "metadata": {},
   "outputs": [],
   "source": []
  },
  {
   "cell_type": "code",
   "execution_count": null,
   "id": "0c8d82e7",
   "metadata": {},
   "outputs": [],
   "source": []
  },
  {
   "cell_type": "code",
   "execution_count": null,
   "id": "95250d21",
   "metadata": {},
   "outputs": [],
   "source": []
  },
  {
   "cell_type": "code",
   "execution_count": null,
   "id": "5ca9a3f4",
   "metadata": {},
   "outputs": [],
   "source": []
  },
  {
   "cell_type": "code",
   "execution_count": null,
   "id": "cdb98e4e",
   "metadata": {},
   "outputs": [],
   "source": []
  },
  {
   "cell_type": "code",
   "execution_count": null,
   "id": "d38e1bb9",
   "metadata": {},
   "outputs": [],
   "source": []
  },
  {
   "cell_type": "code",
   "execution_count": null,
   "id": "a675ba0e",
   "metadata": {},
   "outputs": [],
   "source": []
  },
  {
   "cell_type": "code",
   "execution_count": null,
   "id": "12fd1a5a",
   "metadata": {},
   "outputs": [],
   "source": []
  },
  {
   "cell_type": "code",
   "execution_count": null,
   "id": "3057d6e9",
   "metadata": {},
   "outputs": [],
   "source": []
  },
  {
   "cell_type": "code",
   "execution_count": null,
   "id": "ef521b8e",
   "metadata": {},
   "outputs": [],
   "source": []
  },
  {
   "cell_type": "markdown",
   "id": "2b734c15",
   "metadata": {},
   "source": [
    "# Modeling ig"
   ]
  },
  {
   "cell_type": "code",
   "execution_count": null,
   "id": "26880a22",
   "metadata": {},
   "outputs": [],
   "source": []
  },
  {
   "cell_type": "code",
   "execution_count": null,
   "id": "2431193d",
   "metadata": {},
   "outputs": [],
   "source": [
    "# Create the empty dataframe\n",
    "eval_df = pd.DataFrame(columns=['model_type', 'target_var', 'rmse'])\n",
    "\n",
    "# Initialize volume, yhat_df, and period for modeling\n",
    "volume = 0 #train['btc_volume'][-1:][0]\n",
    "\n",
    "yhat_df = pd.DataFrame({'btc_volume': [volume]}, \n",
    "                       index = validate.index)\n",
    "\n",
    "period = 0"
   ]
  },
  {
   "cell_type": "markdown",
   "id": "efb4f64d",
   "metadata": {},
   "source": [
    "## Last Observed"
   ]
  },
  {
   "cell_type": "code",
   "execution_count": null,
   "id": "6a633d96",
   "metadata": {},
   "outputs": [],
   "source": [
    "volume, yhat_df = get_btc_last_observed(train, validate, volume, yhat_df)"
   ]
  },
  {
   "cell_type": "code",
   "execution_count": null,
   "id": "aee187b5",
   "metadata": {},
   "outputs": [],
   "source": [
    "eval_df = append_eval_df(model_type = 'last_observed_value', \n",
    "                             target_var = col)\n",
    "eval_df"
   ]
  },
  {
   "cell_type": "code",
   "execution_count": null,
   "id": "e2463801",
   "metadata": {},
   "outputs": [],
   "source": [
    "plot_and_eval(col)"
   ]
  },
  {
   "cell_type": "markdown",
   "id": "0034b257",
   "metadata": {},
   "source": [
    "## Simple Average"
   ]
  },
  {
   "cell_type": "code",
   "execution_count": null,
   "id": "bde4257e",
   "metadata": {},
   "outputs": [],
   "source": [
    "volume, yhat_df = get_btc_simple_average(train, validate, volume, yhat_df)"
   ]
  },
  {
   "cell_type": "code",
   "execution_count": null,
   "id": "7708a076",
   "metadata": {},
   "outputs": [],
   "source": [
    "eval_df = append_eval_df(model_type='simple_average', \n",
    "                             target_var = col)\n",
    "eval_df"
   ]
  },
  {
   "cell_type": "code",
   "execution_count": null,
   "id": "44d6df7b",
   "metadata": {},
   "outputs": [],
   "source": [
    "plot_and_eval(col)"
   ]
  },
  {
   "cell_type": "code",
   "execution_count": null,
   "id": "9c3ef71b",
   "metadata": {},
   "outputs": [],
   "source": []
  },
  {
   "cell_type": "code",
   "execution_count": null,
   "id": "a211c774",
   "metadata": {},
   "outputs": [],
   "source": []
  },
  {
   "cell_type": "markdown",
   "id": "ff1a4d76",
   "metadata": {},
   "source": [
    "# Moving Average"
   ]
  },
  {
   "cell_type": "code",
   "execution_count": null,
   "id": "9c1f8948",
   "metadata": {},
   "outputs": [],
   "source": [
    "volume, yhat_df = get_btc_30d_average(train, validate, volume, yhat_df)"
   ]
  },
  {
   "cell_type": "code",
   "execution_count": null,
   "id": "0005db1d",
   "metadata": {},
   "outputs": [],
   "source": [
    "eval_df = append_eval_df(model_type='30d_moving_average', \n",
    "                             target_var = col)\n",
    "eval_df"
   ]
  },
  {
   "cell_type": "code",
   "execution_count": null,
   "id": "2420fa3e",
   "metadata": {},
   "outputs": [],
   "source": [
    "plot_and_eval(col)"
   ]
  },
  {
   "cell_type": "code",
   "execution_count": 2,
   "id": "75d3f80d",
   "metadata": {},
   "outputs": [],
   "source": [
    "periods = [1,7,14,21,28,120]"
   ]
  },
  {
   "cell_type": "code",
   "execution_count": null,
   "id": "6a75fcdc",
   "metadata": {},
   "outputs": [],
   "source": []
  },
  {
   "cell_type": "code",
   "execution_count": null,
   "id": "74afe029",
   "metadata": {},
   "outputs": [],
   "source": [
    "for p in periods:\n",
    "        volume = round(train['btc_volume'].rolling(p).mean().iloc[-1], 2)\n",
    "\n",
    "\n",
    "        yhat_df = pd.DataFrame({'btc_volume': [volume]}, \n",
    "                           index = validate.index)\n",
    "\n",
    "        model_type = str(p) + 'd moving average'\n",
    "        eval_df = append_eval_df(model_type = model_type, \n",
    "                                 target_var = col)"
   ]
  },
  {
   "cell_type": "code",
   "execution_count": null,
   "id": "62ede088",
   "metadata": {},
   "outputs": [],
   "source": [
    "eval_df"
   ]
  },
  {
   "cell_type": "code",
   "execution_count": null,
   "id": "2c5882ab",
   "metadata": {},
   "outputs": [],
   "source": []
  },
  {
   "cell_type": "markdown",
   "id": "ec5d7340",
   "metadata": {},
   "source": [
    "# Previous Cycle"
   ]
  },
  {
   "cell_type": "code",
   "execution_count": null,
   "id": "88713391",
   "metadata": {},
   "outputs": [],
   "source": [
    "yhat_df = get_btc_previous_cycle(train, validate)"
   ]
  },
  {
   "cell_type": "code",
   "execution_count": null,
   "id": "af217520",
   "metadata": {},
   "outputs": [],
   "source": [
    "plot_and_eval(target_var = col)"
   ]
  },
  {
   "cell_type": "code",
   "execution_count": null,
   "id": "555489a8",
   "metadata": {},
   "outputs": [],
   "source": [
    "eval_df = append_eval_df(model_type = 'previous year', target_var = col)"
   ]
  },
  {
   "cell_type": "code",
   "execution_count": null,
   "id": "e7fb248a",
   "metadata": {},
   "outputs": [],
   "source": [
    "eval_df"
   ]
  },
  {
   "cell_type": "code",
   "execution_count": null,
   "id": "c22cbe83",
   "metadata": {},
   "outputs": [],
   "source": []
  },
  {
   "cell_type": "code",
   "execution_count": null,
   "id": "ae8982a5",
   "metadata": {},
   "outputs": [],
   "source": []
  },
  {
   "cell_type": "code",
   "execution_count": null,
   "id": "204e84fd",
   "metadata": {},
   "outputs": [],
   "source": []
  },
  {
   "cell_type": "markdown",
   "id": "60186d78",
   "metadata": {},
   "source": [
    "# Model on Test"
   ]
  },
  {
   "cell_type": "code",
   "execution_count": null,
   "id": "0446c069",
   "metadata": {},
   "outputs": [],
   "source": [
    "period = 21\n",
    "volume = round(train['btc_volume'].rolling(period).mean().iloc[-1], 2)\n",
    "\n",
    "\n",
    "yhat_df = pd.DataFrame({'btc_volume': [volume]}, \n",
    "                       index = test.index)"
   ]
  },
  {
   "cell_type": "code",
   "execution_count": null,
   "id": "a7d18556",
   "metadata": {},
   "outputs": [],
   "source": [
    "plot_and_eval_test(col)"
   ]
  }
 ],
 "metadata": {
  "kernelspec": {
   "display_name": "Python 3 (ipykernel)",
   "language": "python",
   "name": "python3"
  },
  "language_info": {
   "codemirror_mode": {
    "name": "ipython",
    "version": 3
   },
   "file_extension": ".py",
   "mimetype": "text/x-python",
   "name": "python",
   "nbconvert_exporter": "python",
   "pygments_lexer": "ipython3",
   "version": "3.9.12"
  }
 },
 "nbformat": 4,
 "nbformat_minor": 5
}
