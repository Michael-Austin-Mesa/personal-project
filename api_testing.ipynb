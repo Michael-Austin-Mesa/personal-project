{
 "cells": [
  {
   "cell_type": "code",
   "execution_count": 1,
   "id": "b9e35224",
   "metadata": {
    "scrolled": true
   },
   "outputs": [],
   "source": [
    "import requests\n",
    "import pandas as pd\n",
    "\n",
    "\n",
    "#def get_crypto_price(symbol, exchange, start_date = None):\n",
    "#    api_key = 'FAA5OE3IY4HA1OI2'\n",
    "#    api_url = f'https://www.alphavantage.co/query?function=DIGITAL_CURRENCY_DAILY&symbol={symbol}&market={exchange}&apikey={api_key}'\n",
    "#    raw_df = requests.get(api_url).json()\n",
    "#    df = pd.DataFrame(raw_df['Time Series (Digital Currency Daily)']).T\n",
    "#    df = df.rename(columns = {'1a. open (USD)': 'open', '2a. high (USD)': 'high', '3a. low (USD)': 'low', '4a. close (USD)': 'close', '5. volume': 'volume'})\n",
    "#    for i in df.columns:\n",
    "#        df[i] = df[i].astype(float)\n",
    "#    df.index = pd.to_datetime(df.index)\n",
    "#    df = df.iloc[::-1].drop(['1b. open (USD)', '2b. high (USD)', '3b. low (USD)', '4b. close (USD)', '6. market cap (USD)'], axis = 1)\n",
    "#    if start_date:\n",
    "#        df = df[df.index >= start_date]\n",
    "#    return df\n",
    "\n",
    "#btc = get_crypto_price(symbol = 'BTC', exchange = 'USD', start_date = '2020-01-01')\n",
    "#btc"
   ]
  },
  {
   "cell_type": "code",
   "execution_count": 2,
   "id": "5609cda0",
   "metadata": {},
   "outputs": [],
   "source": [
    "#raw_df"
   ]
  },
  {
   "cell_type": "code",
   "execution_count": 3,
   "id": "258d8faa",
   "metadata": {},
   "outputs": [],
   "source": [
    "#eth = get_crypto_price(symbol = 'ETH', exchange = 'USD', start_date = '2020-01-01')\n",
    "#eth"
   ]
  },
  {
   "cell_type": "code",
   "execution_count": 4,
   "id": "9275106c",
   "metadata": {
    "scrolled": true
   },
   "outputs": [],
   "source": [
    "#btc.info()"
   ]
  },
  {
   "cell_type": "code",
   "execution_count": 5,
   "id": "96957044",
   "metadata": {},
   "outputs": [],
   "source": [
    "#eth.info()"
   ]
  },
  {
   "cell_type": "code",
   "execution_count": 9,
   "id": "8b90b9fd",
   "metadata": {},
   "outputs": [],
   "source": [
    "#def get_crypto_price_daily_adjusted(symbol, exchange, start_date = None):\n",
    "#    api_key = 'FAA5OE3IY4HA1OI2'\n",
    "#    api_url = f'https://www.alphavantage.co/query?function=TIME_SERIES_DAILY_ADJUSTED&symbol={symbol}&market={exchange}&apikey={api_key}'\n",
    "#    raw_df = requests.get(api_url)#.json()\n",
    "#    df = pd.DataFrame(raw_df['Time Series (Digital Currency Daily)']).T\n",
    "#    df = df.rename(columns = {'1a. open (USD)': 'open', '2a. high (USD)': 'high', '3a. low (USD)': 'low', '4a. close (USD)': 'close', '5. volume': 'volume'})\n",
    "#    for i in df.columns:\n",
    "#        df[i] = df[i].astype(float)\n",
    "#    df.index = pd.to_datetime(df.index)\n",
    "#    df = df.iloc[::-1].drop(['1b. open (USD)', '2b. high (USD)', '3b. low (USD)', '4b. close (USD)', '6. market cap (USD)'], axis = 1)\n",
    "#    if start_date:\n",
    "#        df = df[df.index >= start_date]\n",
    "#    return df"
   ]
  },
  {
   "cell_type": "code",
   "execution_count": 13,
   "id": "4845fe28",
   "metadata": {},
   "outputs": [
    {
     "ename": "KeyError",
     "evalue": "'values'",
     "output_type": "error",
     "traceback": [
      "\u001b[0;31m---------------------------------------------------------------------------\u001b[0m",
      "\u001b[0;31mKeyError\u001b[0m                                  Traceback (most recent call last)",
      "Input \u001b[0;32mIn [13]\u001b[0m, in \u001b[0;36m<cell line: 12>\u001b[0;34m()\u001b[0m\n\u001b[1;32m      9\u001b[0m     df \u001b[38;5;241m=\u001b[39m df\u001b[38;5;241m.\u001b[39miloc[::\u001b[38;5;241m-\u001b[39m\u001b[38;5;241m1\u001b[39m]\n\u001b[1;32m     10\u001b[0m     \u001b[38;5;28;01mreturn\u001b[39;00m df, raw\n\u001b[0;32m---> 12\u001b[0m xrp \u001b[38;5;241m=\u001b[39m \u001b[43mget_crypto_price\u001b[49m\u001b[43m(\u001b[49m\u001b[38;5;124;43m'\u001b[39;49m\u001b[38;5;124;43mXRP/USD\u001b[39;49m\u001b[38;5;124;43m'\u001b[39;49m\u001b[43m,\u001b[49m\u001b[43m \u001b[49m\u001b[38;5;124;43m'\u001b[39;49m\u001b[38;5;124;43m1day\u001b[39;49m\u001b[38;5;124;43m'\u001b[39;49m\u001b[43m,\u001b[49m\u001b[43m \u001b[49m\u001b[38;5;241;43m450\u001b[39;49m\u001b[43m)\u001b[49m\n\u001b[1;32m     13\u001b[0m xrp\n",
      "Input \u001b[0;32mIn [13]\u001b[0m, in \u001b[0;36mget_crypto_price\u001b[0;34m(symbol, interval, days)\u001b[0m\n\u001b[1;32m      6\u001b[0m api_url \u001b[38;5;241m=\u001b[39m \u001b[38;5;124mf\u001b[39m\u001b[38;5;124m'\u001b[39m\u001b[38;5;124mhttps://api.twelvedata.com/time_series?symbol=\u001b[39m\u001b[38;5;132;01m{\u001b[39;00msymbol\u001b[38;5;132;01m}\u001b[39;00m\u001b[38;5;124m&exchange=Binance&interval=\u001b[39m\u001b[38;5;132;01m{\u001b[39;00minterval\u001b[38;5;132;01m}\u001b[39;00m\u001b[38;5;124m&outputsize=\u001b[39m\u001b[38;5;132;01m{\u001b[39;00mdays\u001b[38;5;132;01m}\u001b[39;00m\u001b[38;5;124m&apikey=\u001b[39m\u001b[38;5;132;01m{\u001b[39;00mapi_key\u001b[38;5;132;01m}\u001b[39;00m\u001b[38;5;124m'\u001b[39m\n\u001b[1;32m      7\u001b[0m raw \u001b[38;5;241m=\u001b[39m requests\u001b[38;5;241m.\u001b[39mget(api_url)\u001b[38;5;241m.\u001b[39mjson()\n\u001b[0;32m----> 8\u001b[0m df \u001b[38;5;241m=\u001b[39m pd\u001b[38;5;241m.\u001b[39mDataFrame(\u001b[43mraw\u001b[49m\u001b[43m[\u001b[49m\u001b[38;5;124;43m'\u001b[39;49m\u001b[38;5;124;43mvalues\u001b[39;49m\u001b[38;5;124;43m'\u001b[39;49m\u001b[43m]\u001b[49m)\u001b[38;5;241m.\u001b[39mset_index(\u001b[38;5;124m'\u001b[39m\u001b[38;5;124mdatetime\u001b[39m\u001b[38;5;124m'\u001b[39m)\n\u001b[1;32m      9\u001b[0m df \u001b[38;5;241m=\u001b[39m df\u001b[38;5;241m.\u001b[39miloc[::\u001b[38;5;241m-\u001b[39m\u001b[38;5;241m1\u001b[39m]\n\u001b[1;32m     10\u001b[0m \u001b[38;5;28;01mreturn\u001b[39;00m df, raw\n",
      "\u001b[0;31mKeyError\u001b[0m: 'values'"
     ]
    }
   ],
   "source": [
    "#import requests\n",
    "#import pandas as pd\n",
    "\n",
    "#def get_crypto_price(symbol, interval, days):\n",
    "#    api_key = 'FAA5OE3IY4HA1OI2'\n",
    "#    api_url = f'https://api.twelvedata.com/time_series?symbol={symbol}&exchange=Binance&interval={interval}&outputsize={days}&apikey={api_key}'\n",
    "#    raw = requests.get(api_url).json()\n",
    "#    df = pd.DataFrame(raw['values']).set_index('datetime')\n",
    "#    df = df.iloc[::-1]\n",
    "#    return df\n",
    "\n",
    "#xrp = get_crypto_price('XRP/USD', '1day', 450)\n",
    "#xrp"
   ]
  },
  {
   "cell_type": "code",
   "execution_count": 16,
   "id": "7f52b21d",
   "metadata": {},
   "outputs": [
    {
     "data": {
      "text/plain": [
       "{'code': 400,\n",
       " 'message': '**symbol** BTC is not available with your plan. You may select the appropriate plan at https://twelvedata.com/pricing',\n",
       " 'status': 'error',\n",
       " 'meta': {'symbol': 'BTC', 'interval': '1day', 'exchange': 'Binance'}}"
      ]
     },
     "execution_count": 16,
     "metadata": {},
     "output_type": "execute_result"
    }
   ],
   "source": [
    "#api_key = 'd0a56152367141b3a19a5d7b1f6e1a99'\n",
    "#api_url = f'https://api.twelvedata.com/time_series?symbol=BTC&exchange=Binance&interval=1day&outputsize=450&apikey={api_key}'\n",
    "#raw = requests.get(api_url).json()\n",
    "#raw"
   ]
  },
  {
   "cell_type": "code",
   "execution_count": 25,
   "id": "58dd2306",
   "metadata": {
    "scrolled": true
   },
   "outputs": [
    {
     "data": {
      "text/html": [
       "<div>\n",
       "<style scoped>\n",
       "    .dataframe tbody tr th:only-of-type {\n",
       "        vertical-align: middle;\n",
       "    }\n",
       "\n",
       "    .dataframe tbody tr th {\n",
       "        vertical-align: top;\n",
       "    }\n",
       "\n",
       "    .dataframe thead th {\n",
       "        text-align: right;\n",
       "    }\n",
       "</style>\n",
       "<table border=\"1\" class=\"dataframe\">\n",
       "  <thead>\n",
       "    <tr style=\"text-align: right;\">\n",
       "      <th></th>\n",
       "      <th>btc_open</th>\n",
       "      <th>btc_high</th>\n",
       "      <th>btc_low</th>\n",
       "      <th>btc_close</th>\n",
       "      <th>btc_volume</th>\n",
       "    </tr>\n",
       "    <tr>\n",
       "      <th>date</th>\n",
       "      <th></th>\n",
       "      <th></th>\n",
       "      <th></th>\n",
       "      <th></th>\n",
       "      <th></th>\n",
       "    </tr>\n",
       "  </thead>\n",
       "  <tbody>\n",
       "    <tr>\n",
       "      <th>2018-01-01</th>\n",
       "      <td>13715.65</td>\n",
       "      <td>13818.55</td>\n",
       "      <td>12750.00</td>\n",
       "      <td>13380.00</td>\n",
       "      <td>8609.915844</td>\n",
       "    </tr>\n",
       "    <tr>\n",
       "      <th>2018-01-02</th>\n",
       "      <td>13382.16</td>\n",
       "      <td>15473.49</td>\n",
       "      <td>12890.02</td>\n",
       "      <td>14675.11</td>\n",
       "      <td>20078.092111</td>\n",
       "    </tr>\n",
       "    <tr>\n",
       "      <th>2018-01-03</th>\n",
       "      <td>14690.00</td>\n",
       "      <td>15307.56</td>\n",
       "      <td>14150.00</td>\n",
       "      <td>14919.51</td>\n",
       "      <td>15905.667639</td>\n",
       "    </tr>\n",
       "    <tr>\n",
       "      <th>2018-01-04</th>\n",
       "      <td>14919.51</td>\n",
       "      <td>15280.00</td>\n",
       "      <td>13918.04</td>\n",
       "      <td>15059.54</td>\n",
       "      <td>21329.649574</td>\n",
       "    </tr>\n",
       "    <tr>\n",
       "      <th>2018-01-05</th>\n",
       "      <td>15059.56</td>\n",
       "      <td>17176.24</td>\n",
       "      <td>14600.00</td>\n",
       "      <td>16960.39</td>\n",
       "      <td>23251.491125</td>\n",
       "    </tr>\n",
       "    <tr>\n",
       "      <th>...</th>\n",
       "      <td>...</td>\n",
       "      <td>...</td>\n",
       "      <td>...</td>\n",
       "      <td>...</td>\n",
       "      <td>...</td>\n",
       "    </tr>\n",
       "    <tr>\n",
       "      <th>2022-12-08</th>\n",
       "      <td>16837.61</td>\n",
       "      <td>17298.58</td>\n",
       "      <td>16733.49</td>\n",
       "      <td>17224.82</td>\n",
       "      <td>122071.703410</td>\n",
       "    </tr>\n",
       "    <tr>\n",
       "      <th>2022-12-09</th>\n",
       "      <td>17223.70</td>\n",
       "      <td>17353.17</td>\n",
       "      <td>17058.21</td>\n",
       "      <td>17128.55</td>\n",
       "      <td>128639.484700</td>\n",
       "    </tr>\n",
       "    <tr>\n",
       "      <th>2022-12-10</th>\n",
       "      <td>17128.56</td>\n",
       "      <td>17225.12</td>\n",
       "      <td>17092.00</td>\n",
       "      <td>17127.49</td>\n",
       "      <td>75995.093800</td>\n",
       "    </tr>\n",
       "    <tr>\n",
       "      <th>2022-12-11</th>\n",
       "      <td>17127.09</td>\n",
       "      <td>17270.99</td>\n",
       "      <td>17071.17</td>\n",
       "      <td>17084.59</td>\n",
       "      <td>84358.066960</td>\n",
       "    </tr>\n",
       "    <tr>\n",
       "      <th>2022-12-12</th>\n",
       "      <td>17084.82</td>\n",
       "      <td>17087.48</td>\n",
       "      <td>16871.85</td>\n",
       "      <td>16988.73</td>\n",
       "      <td>95013.282570</td>\n",
       "    </tr>\n",
       "  </tbody>\n",
       "</table>\n",
       "<p>1768 rows × 5 columns</p>\n",
       "</div>"
      ],
      "text/plain": [
       "            btc_open  btc_high   btc_low  btc_close     btc_volume\n",
       "date                                                              \n",
       "2018-01-01  13715.65  13818.55  12750.00   13380.00    8609.915844\n",
       "2018-01-02  13382.16  15473.49  12890.02   14675.11   20078.092111\n",
       "2018-01-03  14690.00  15307.56  14150.00   14919.51   15905.667639\n",
       "2018-01-04  14919.51  15280.00  13918.04   15059.54   21329.649574\n",
       "2018-01-05  15059.56  17176.24  14600.00   16960.39   23251.491125\n",
       "...              ...       ...       ...        ...            ...\n",
       "2022-12-08  16837.61  17298.58  16733.49   17224.82  122071.703410\n",
       "2022-12-09  17223.70  17353.17  17058.21   17128.55  128639.484700\n",
       "2022-12-10  17128.56  17225.12  17092.00   17127.49   75995.093800\n",
       "2022-12-11  17127.09  17270.99  17071.17   17084.59   84358.066960\n",
       "2022-12-12  17084.82  17087.48  16871.85   16988.73   95013.282570\n",
       "\n",
       "[1768 rows x 5 columns]"
      ]
     },
     "execution_count": 25,
     "metadata": {},
     "output_type": "execute_result"
    }
   ],
   "source": [
    "import requests\n",
    "import pandas as pd\n",
    "\n",
    "def get_crypto_price(symbol, start, end):\n",
    "    api_url = f'https://data.messari.io/api/v1/markets/binance-{symbol}-usdt/metrics/price/time-series?start={start}&end={end}&interval=1d'\n",
    "    raw = requests.get(api_url).json()\n",
    "    df = pd.DataFrame(raw['data']['values'])\n",
    "    df = df.rename(columns = {0:'date',1:f'{symbol}_open',2:f'{symbol}_high',3:f'{symbol}_low',4:f'{symbol}_close',5:f'{symbol}_volume'})\n",
    "    df['date'] = pd.to_datetime(df['date'], unit = 'ms')\n",
    "    df = df.set_index('date')\n",
    "    return df\n",
    "\n",
    "btc = get_crypto_price('btc', '2018-01-01', '2022-12-12')\n",
    "btc"
   ]
  },
  {
   "cell_type": "code",
   "execution_count": 22,
   "id": "771ace07",
   "metadata": {},
   "outputs": [
    {
     "data": {
      "text/plain": [
       "open      1767\n",
       "high      1728\n",
       "low       1724\n",
       "close     1767\n",
       "volume    1768\n",
       "dtype: int64"
      ]
     },
     "execution_count": 22,
     "metadata": {},
     "output_type": "execute_result"
    }
   ],
   "source": [
    "btc.nunique()"
   ]
  },
  {
   "cell_type": "code",
   "execution_count": 28,
   "id": "d095d5ad",
   "metadata": {},
   "outputs": [
    {
     "name": "stdout",
     "output_type": "stream",
     "text": [
      "<class 'pandas.core.frame.DataFrame'>\n",
      "DatetimeIndex: 1768 entries, 2018-01-01 to 2022-12-12\n",
      "Data columns (total 5 columns):\n",
      " #   Column      Non-Null Count  Dtype  \n",
      "---  ------      --------------  -----  \n",
      " 0   btc_open    1768 non-null   float64\n",
      " 1   btc_high    1768 non-null   float64\n",
      " 2   btc_low     1768 non-null   float64\n",
      " 3   btc_close   1768 non-null   float64\n",
      " 4   btc_volume  1768 non-null   float64\n",
      "dtypes: float64(5)\n",
      "memory usage: 82.9 KB\n"
     ]
    }
   ],
   "source": [
    "btc.info()"
   ]
  },
  {
   "cell_type": "code",
   "execution_count": 26,
   "id": "25ac1dbe",
   "metadata": {},
   "outputs": [
    {
     "data": {
      "text/html": [
       "<div>\n",
       "<style scoped>\n",
       "    .dataframe tbody tr th:only-of-type {\n",
       "        vertical-align: middle;\n",
       "    }\n",
       "\n",
       "    .dataframe tbody tr th {\n",
       "        vertical-align: top;\n",
       "    }\n",
       "\n",
       "    .dataframe thead th {\n",
       "        text-align: right;\n",
       "    }\n",
       "</style>\n",
       "<table border=\"1\" class=\"dataframe\">\n",
       "  <thead>\n",
       "    <tr style=\"text-align: right;\">\n",
       "      <th></th>\n",
       "      <th>eth_open</th>\n",
       "      <th>eth_high</th>\n",
       "      <th>eth_low</th>\n",
       "      <th>eth_close</th>\n",
       "      <th>eth_volume</th>\n",
       "    </tr>\n",
       "    <tr>\n",
       "      <th>date</th>\n",
       "      <th></th>\n",
       "      <th></th>\n",
       "      <th></th>\n",
       "      <th></th>\n",
       "      <th></th>\n",
       "    </tr>\n",
       "  </thead>\n",
       "  <tbody>\n",
       "    <tr>\n",
       "      <th>2018-01-01</th>\n",
       "      <td>733.01</td>\n",
       "      <td>763.55</td>\n",
       "      <td>716.80</td>\n",
       "      <td>754.99</td>\n",
       "      <td>53909.25885</td>\n",
       "    </tr>\n",
       "    <tr>\n",
       "      <th>2018-01-02</th>\n",
       "      <td>754.99</td>\n",
       "      <td>899.50</td>\n",
       "      <td>749.06</td>\n",
       "      <td>855.28</td>\n",
       "      <td>110603.25683</td>\n",
       "    </tr>\n",
       "    <tr>\n",
       "      <th>2018-01-03</th>\n",
       "      <td>855.13</td>\n",
       "      <td>950.01</td>\n",
       "      <td>810.00</td>\n",
       "      <td>934.03</td>\n",
       "      <td>89041.45688</td>\n",
       "    </tr>\n",
       "    <tr>\n",
       "      <th>2018-01-04</th>\n",
       "      <td>934.03</td>\n",
       "      <td>1009.72</td>\n",
       "      <td>890.01</td>\n",
       "      <td>940.00</td>\n",
       "      <td>102894.47384</td>\n",
       "    </tr>\n",
       "    <tr>\n",
       "      <th>2018-01-05</th>\n",
       "      <td>940.00</td>\n",
       "      <td>1045.00</td>\n",
       "      <td>930.00</td>\n",
       "      <td>959.30</td>\n",
       "      <td>97374.01630</td>\n",
       "    </tr>\n",
       "    <tr>\n",
       "      <th>...</th>\n",
       "      <td>...</td>\n",
       "      <td>...</td>\n",
       "      <td>...</td>\n",
       "      <td>...</td>\n",
       "      <td>...</td>\n",
       "    </tr>\n",
       "    <tr>\n",
       "      <th>2022-12-08</th>\n",
       "      <td>1231.18</td>\n",
       "      <td>1292.58</td>\n",
       "      <td>1222.11</td>\n",
       "      <td>1280.19</td>\n",
       "      <td>206140.55100</td>\n",
       "    </tr>\n",
       "    <tr>\n",
       "      <th>2022-12-09</th>\n",
       "      <td>1280.18</td>\n",
       "      <td>1296.64</td>\n",
       "      <td>1250.00</td>\n",
       "      <td>1263.10</td>\n",
       "      <td>211487.99340</td>\n",
       "    </tr>\n",
       "    <tr>\n",
       "      <th>2022-12-10</th>\n",
       "      <td>1263.11</td>\n",
       "      <td>1282.96</td>\n",
       "      <td>1259.64</td>\n",
       "      <td>1266.34</td>\n",
       "      <td>97852.92080</td>\n",
       "    </tr>\n",
       "    <tr>\n",
       "      <th>2022-12-11</th>\n",
       "      <td>1266.35</td>\n",
       "      <td>1284.75</td>\n",
       "      <td>1255.85</td>\n",
       "      <td>1263.08</td>\n",
       "      <td>99989.60320</td>\n",
       "    </tr>\n",
       "    <tr>\n",
       "      <th>2022-12-12</th>\n",
       "      <td>1263.00</td>\n",
       "      <td>1263.00</td>\n",
       "      <td>1240.03</td>\n",
       "      <td>1252.13</td>\n",
       "      <td>143852.12950</td>\n",
       "    </tr>\n",
       "  </tbody>\n",
       "</table>\n",
       "<p>1770 rows × 5 columns</p>\n",
       "</div>"
      ],
      "text/plain": [
       "            eth_open  eth_high  eth_low  eth_close    eth_volume\n",
       "date                                                            \n",
       "2018-01-01    733.01    763.55   716.80     754.99   53909.25885\n",
       "2018-01-02    754.99    899.50   749.06     855.28  110603.25683\n",
       "2018-01-03    855.13    950.01   810.00     934.03   89041.45688\n",
       "2018-01-04    934.03   1009.72   890.01     940.00  102894.47384\n",
       "2018-01-05    940.00   1045.00   930.00     959.30   97374.01630\n",
       "...              ...       ...      ...        ...           ...\n",
       "2022-12-08   1231.18   1292.58  1222.11    1280.19  206140.55100\n",
       "2022-12-09   1280.18   1296.64  1250.00    1263.10  211487.99340\n",
       "2022-12-10   1263.11   1282.96  1259.64    1266.34   97852.92080\n",
       "2022-12-11   1266.35   1284.75  1255.85    1263.08   99989.60320\n",
       "2022-12-12   1263.00   1263.00  1240.03    1252.13  143852.12950\n",
       "\n",
       "[1770 rows x 5 columns]"
      ]
     },
     "execution_count": 26,
     "metadata": {},
     "output_type": "execute_result"
    }
   ],
   "source": [
    "eth = get_crypto_price('eth', '2018-01-01', '2022-12-12')\n",
    "eth"
   ]
  },
  {
   "cell_type": "code",
   "execution_count": 24,
   "id": "3f662384",
   "metadata": {},
   "outputs": [
    {
     "data": {
      "text/plain": [
       "open      1750\n",
       "high      1729\n",
       "low       1724\n",
       "close     1752\n",
       "volume    1770\n",
       "dtype: int64"
      ]
     },
     "execution_count": 24,
     "metadata": {},
     "output_type": "execute_result"
    }
   ],
   "source": [
    "eth.nunique()"
   ]
  },
  {
   "cell_type": "code",
   "execution_count": 27,
   "id": "6d0619b6",
   "metadata": {},
   "outputs": [
    {
     "name": "stdout",
     "output_type": "stream",
     "text": [
      "<class 'pandas.core.frame.DataFrame'>\n",
      "DatetimeIndex: 1770 entries, 2018-01-01 to 2022-12-12\n",
      "Data columns (total 5 columns):\n",
      " #   Column      Non-Null Count  Dtype  \n",
      "---  ------      --------------  -----  \n",
      " 0   eth_open    1770 non-null   float64\n",
      " 1   eth_high    1770 non-null   float64\n",
      " 2   eth_low     1770 non-null   float64\n",
      " 3   eth_close   1770 non-null   float64\n",
      " 4   eth_volume  1770 non-null   float64\n",
      "dtypes: float64(5)\n",
      "memory usage: 83.0 KB\n"
     ]
    }
   ],
   "source": [
    "eth.info()"
   ]
  },
  {
   "cell_type": "code",
   "execution_count": null,
   "id": "510f0736",
   "metadata": {},
   "outputs": [],
   "source": []
  }
 ],
 "metadata": {
  "kernelspec": {
   "display_name": "Python 3 (ipykernel)",
   "language": "python",
   "name": "python3"
  },
  "language_info": {
   "codemirror_mode": {
    "name": "ipython",
    "version": 3
   },
   "file_extension": ".py",
   "mimetype": "text/x-python",
   "name": "python",
   "nbconvert_exporter": "python",
   "pygments_lexer": "ipython3",
   "version": "3.9.12"
  }
 },
 "nbformat": 4,
 "nbformat_minor": 5
}
